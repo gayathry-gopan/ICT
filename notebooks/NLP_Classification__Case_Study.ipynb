{
  "cells": [
    {
      "cell_type": "code",
      "execution_count": 2,
      "metadata": {
        "id": "b70M4zeg9Z8h"
      },
      "outputs": [],
      "source": [
        "import pandas as pd\n",
        "import numpy as np"
      ]
    },
    {
      "cell_type": "code",
      "execution_count": 3,
      "metadata": {
        "id": "8m0nYEVK_2Qo"
      },
      "outputs": [],
      "source": [
        "data = pd.read_csv('/content/Preprocessed_DonorsChoose_dataset.csv')"
      ]
    },
    {
      "cell_type": "code",
      "execution_count": 3,
      "metadata": {
        "colab": {
          "base_uri": "https://localhost:8080/",
          "height": 469
        },
        "id": "xoGE9_ScEu1z",
        "outputId": "080a1686-c0e5-4d67-b73f-a20411507e6d"
      },
      "outputs": [
        {
          "output_type": "execute_result",
          "data": {
            "text/plain": [
              "        id teacher_prefix school_state project_grade_category  \\\n",
              "0  p253737            mrs           in          grades_prek_2   \n",
              "1  p258326             mr           fl             grades_6_8   \n",
              "2  p182444             ms           az             grades_6_8   \n",
              "3  p246581            mrs           ky          grades_prek_2   \n",
              "4  p104768            mrs           tx          grades_prek_2   \n",
              "\n",
              "       project_subject_categories project_subject_subcategories  \\\n",
              "0               literacy_language                  esl_literacy   \n",
              "1    history_civics_health_sports  civics_government_teamsports   \n",
              "2                   health_sports    health_wellness_teamsports   \n",
              "3  literacy_language_math_science          literacy_mathematics   \n",
              "4                    math_science                   mathematics   \n",
              "\n",
              "   teacher_number_of_previously_posted_projects  project_is_approved   price  \\\n",
              "0                                             0                    0  154.60   \n",
              "1                                             7                    1  299.00   \n",
              "2                                             1                    0  516.85   \n",
              "3                                             4                    1  232.90   \n",
              "4                                             1                    1   67.98   \n",
              "\n",
              "   quantity                                   cleaned_titles  \\\n",
              "0        23        educational support english learners home   \n",
              "1         1                 wanted projector hungry learners   \n",
              "2        22  soccer equipment awesome middle school students   \n",
              "3         4                           techie kindergarteners   \n",
              "4         4                           interactive math tools   \n",
              "\n",
              "                                      cleaned_essays  \\\n",
              "0  students english learners working english seco...   \n",
              "1  students arrive school eager learn polite gene...   \n",
              "2  true champions not always ones win guts mia ha...   \n",
              "3  work unique school filled esl english second l...   \n",
              "4  second grade classroom next year made around 2...   \n",
              "\n",
              "                                     cleaned_summary  isdigit_summary  \n",
              "0  students_need_opportunities_practice_beginning...                0  \n",
              "1  students_need_projector_help_viewing_education...                0  \n",
              "2  students_need_shine_guards_athletic_socks_socc...                0  \n",
              "3  students_need_engage_reading_math_way_inspire_...                0  \n",
              "4  students_need_hands_practice_mathematics_fun_p...                0  "
            ],
            "text/html": [
              "\n",
              "  <div id=\"df-a89c00f2-49cf-41aa-8cc9-9ae702ad56bc\" class=\"colab-df-container\">\n",
              "    <div>\n",
              "<style scoped>\n",
              "    .dataframe tbody tr th:only-of-type {\n",
              "        vertical-align: middle;\n",
              "    }\n",
              "\n",
              "    .dataframe tbody tr th {\n",
              "        vertical-align: top;\n",
              "    }\n",
              "\n",
              "    .dataframe thead th {\n",
              "        text-align: right;\n",
              "    }\n",
              "</style>\n",
              "<table border=\"1\" class=\"dataframe\">\n",
              "  <thead>\n",
              "    <tr style=\"text-align: right;\">\n",
              "      <th></th>\n",
              "      <th>id</th>\n",
              "      <th>teacher_prefix</th>\n",
              "      <th>school_state</th>\n",
              "      <th>project_grade_category</th>\n",
              "      <th>project_subject_categories</th>\n",
              "      <th>project_subject_subcategories</th>\n",
              "      <th>teacher_number_of_previously_posted_projects</th>\n",
              "      <th>project_is_approved</th>\n",
              "      <th>price</th>\n",
              "      <th>quantity</th>\n",
              "      <th>cleaned_titles</th>\n",
              "      <th>cleaned_essays</th>\n",
              "      <th>cleaned_summary</th>\n",
              "      <th>isdigit_summary</th>\n",
              "    </tr>\n",
              "  </thead>\n",
              "  <tbody>\n",
              "    <tr>\n",
              "      <th>0</th>\n",
              "      <td>p253737</td>\n",
              "      <td>mrs</td>\n",
              "      <td>in</td>\n",
              "      <td>grades_prek_2</td>\n",
              "      <td>literacy_language</td>\n",
              "      <td>esl_literacy</td>\n",
              "      <td>0</td>\n",
              "      <td>0</td>\n",
              "      <td>154.60</td>\n",
              "      <td>23</td>\n",
              "      <td>educational support english learners home</td>\n",
              "      <td>students english learners working english seco...</td>\n",
              "      <td>students_need_opportunities_practice_beginning...</td>\n",
              "      <td>0</td>\n",
              "    </tr>\n",
              "    <tr>\n",
              "      <th>1</th>\n",
              "      <td>p258326</td>\n",
              "      <td>mr</td>\n",
              "      <td>fl</td>\n",
              "      <td>grades_6_8</td>\n",
              "      <td>history_civics_health_sports</td>\n",
              "      <td>civics_government_teamsports</td>\n",
              "      <td>7</td>\n",
              "      <td>1</td>\n",
              "      <td>299.00</td>\n",
              "      <td>1</td>\n",
              "      <td>wanted projector hungry learners</td>\n",
              "      <td>students arrive school eager learn polite gene...</td>\n",
              "      <td>students_need_projector_help_viewing_education...</td>\n",
              "      <td>0</td>\n",
              "    </tr>\n",
              "    <tr>\n",
              "      <th>2</th>\n",
              "      <td>p182444</td>\n",
              "      <td>ms</td>\n",
              "      <td>az</td>\n",
              "      <td>grades_6_8</td>\n",
              "      <td>health_sports</td>\n",
              "      <td>health_wellness_teamsports</td>\n",
              "      <td>1</td>\n",
              "      <td>0</td>\n",
              "      <td>516.85</td>\n",
              "      <td>22</td>\n",
              "      <td>soccer equipment awesome middle school students</td>\n",
              "      <td>true champions not always ones win guts mia ha...</td>\n",
              "      <td>students_need_shine_guards_athletic_socks_socc...</td>\n",
              "      <td>0</td>\n",
              "    </tr>\n",
              "    <tr>\n",
              "      <th>3</th>\n",
              "      <td>p246581</td>\n",
              "      <td>mrs</td>\n",
              "      <td>ky</td>\n",
              "      <td>grades_prek_2</td>\n",
              "      <td>literacy_language_math_science</td>\n",
              "      <td>literacy_mathematics</td>\n",
              "      <td>4</td>\n",
              "      <td>1</td>\n",
              "      <td>232.90</td>\n",
              "      <td>4</td>\n",
              "      <td>techie kindergarteners</td>\n",
              "      <td>work unique school filled esl english second l...</td>\n",
              "      <td>students_need_engage_reading_math_way_inspire_...</td>\n",
              "      <td>0</td>\n",
              "    </tr>\n",
              "    <tr>\n",
              "      <th>4</th>\n",
              "      <td>p104768</td>\n",
              "      <td>mrs</td>\n",
              "      <td>tx</td>\n",
              "      <td>grades_prek_2</td>\n",
              "      <td>math_science</td>\n",
              "      <td>mathematics</td>\n",
              "      <td>1</td>\n",
              "      <td>1</td>\n",
              "      <td>67.98</td>\n",
              "      <td>4</td>\n",
              "      <td>interactive math tools</td>\n",
              "      <td>second grade classroom next year made around 2...</td>\n",
              "      <td>students_need_hands_practice_mathematics_fun_p...</td>\n",
              "      <td>0</td>\n",
              "    </tr>\n",
              "  </tbody>\n",
              "</table>\n",
              "</div>\n",
              "    <div class=\"colab-df-buttons\">\n",
              "\n",
              "  <div class=\"colab-df-container\">\n",
              "    <button class=\"colab-df-convert\" onclick=\"convertToInteractive('df-a89c00f2-49cf-41aa-8cc9-9ae702ad56bc')\"\n",
              "            title=\"Convert this dataframe to an interactive table.\"\n",
              "            style=\"display:none;\">\n",
              "\n",
              "  <svg xmlns=\"http://www.w3.org/2000/svg\" height=\"24px\" viewBox=\"0 -960 960 960\">\n",
              "    <path d=\"M120-120v-720h720v720H120Zm60-500h600v-160H180v160Zm220 220h160v-160H400v160Zm0 220h160v-160H400v160ZM180-400h160v-160H180v160Zm440 0h160v-160H620v160ZM180-180h160v-160H180v160Zm440 0h160v-160H620v160Z\"/>\n",
              "  </svg>\n",
              "    </button>\n",
              "\n",
              "  <style>\n",
              "    .colab-df-container {\n",
              "      display:flex;\n",
              "      gap: 12px;\n",
              "    }\n",
              "\n",
              "    .colab-df-convert {\n",
              "      background-color: #E8F0FE;\n",
              "      border: none;\n",
              "      border-radius: 50%;\n",
              "      cursor: pointer;\n",
              "      display: none;\n",
              "      fill: #1967D2;\n",
              "      height: 32px;\n",
              "      padding: 0 0 0 0;\n",
              "      width: 32px;\n",
              "    }\n",
              "\n",
              "    .colab-df-convert:hover {\n",
              "      background-color: #E2EBFA;\n",
              "      box-shadow: 0px 1px 2px rgba(60, 64, 67, 0.3), 0px 1px 3px 1px rgba(60, 64, 67, 0.15);\n",
              "      fill: #174EA6;\n",
              "    }\n",
              "\n",
              "    .colab-df-buttons div {\n",
              "      margin-bottom: 4px;\n",
              "    }\n",
              "\n",
              "    [theme=dark] .colab-df-convert {\n",
              "      background-color: #3B4455;\n",
              "      fill: #D2E3FC;\n",
              "    }\n",
              "\n",
              "    [theme=dark] .colab-df-convert:hover {\n",
              "      background-color: #434B5C;\n",
              "      box-shadow: 0px 1px 3px 1px rgba(0, 0, 0, 0.15);\n",
              "      filter: drop-shadow(0px 1px 2px rgba(0, 0, 0, 0.3));\n",
              "      fill: #FFFFFF;\n",
              "    }\n",
              "  </style>\n",
              "\n",
              "    <script>\n",
              "      const buttonEl =\n",
              "        document.querySelector('#df-a89c00f2-49cf-41aa-8cc9-9ae702ad56bc button.colab-df-convert');\n",
              "      buttonEl.style.display =\n",
              "        google.colab.kernel.accessAllowed ? 'block' : 'none';\n",
              "\n",
              "      async function convertToInteractive(key) {\n",
              "        const element = document.querySelector('#df-a89c00f2-49cf-41aa-8cc9-9ae702ad56bc');\n",
              "        const dataTable =\n",
              "          await google.colab.kernel.invokeFunction('convertToInteractive',\n",
              "                                                    [key], {});\n",
              "        if (!dataTable) return;\n",
              "\n",
              "        const docLinkHtml = 'Like what you see? Visit the ' +\n",
              "          '<a target=\"_blank\" href=https://colab.research.google.com/notebooks/data_table.ipynb>data table notebook</a>'\n",
              "          + ' to learn more about interactive tables.';\n",
              "        element.innerHTML = '';\n",
              "        dataTable['output_type'] = 'display_data';\n",
              "        await google.colab.output.renderOutput(dataTable, element);\n",
              "        const docLink = document.createElement('div');\n",
              "        docLink.innerHTML = docLinkHtml;\n",
              "        element.appendChild(docLink);\n",
              "      }\n",
              "    </script>\n",
              "  </div>\n",
              "\n",
              "\n",
              "    <div id=\"df-77fcd68e-a3e4-45b6-becd-976314aad76b\">\n",
              "      <button class=\"colab-df-quickchart\" onclick=\"quickchart('df-77fcd68e-a3e4-45b6-becd-976314aad76b')\"\n",
              "                title=\"Suggest charts\"\n",
              "                style=\"display:none;\">\n",
              "\n",
              "<svg xmlns=\"http://www.w3.org/2000/svg\" height=\"24px\"viewBox=\"0 0 24 24\"\n",
              "     width=\"24px\">\n",
              "    <g>\n",
              "        <path d=\"M19 3H5c-1.1 0-2 .9-2 2v14c0 1.1.9 2 2 2h14c1.1 0 2-.9 2-2V5c0-1.1-.9-2-2-2zM9 17H7v-7h2v7zm4 0h-2V7h2v10zm4 0h-2v-4h2v4z\"/>\n",
              "    </g>\n",
              "</svg>\n",
              "      </button>\n",
              "\n",
              "<style>\n",
              "  .colab-df-quickchart {\n",
              "      --bg-color: #E8F0FE;\n",
              "      --fill-color: #1967D2;\n",
              "      --hover-bg-color: #E2EBFA;\n",
              "      --hover-fill-color: #174EA6;\n",
              "      --disabled-fill-color: #AAA;\n",
              "      --disabled-bg-color: #DDD;\n",
              "  }\n",
              "\n",
              "  [theme=dark] .colab-df-quickchart {\n",
              "      --bg-color: #3B4455;\n",
              "      --fill-color: #D2E3FC;\n",
              "      --hover-bg-color: #434B5C;\n",
              "      --hover-fill-color: #FFFFFF;\n",
              "      --disabled-bg-color: #3B4455;\n",
              "      --disabled-fill-color: #666;\n",
              "  }\n",
              "\n",
              "  .colab-df-quickchart {\n",
              "    background-color: var(--bg-color);\n",
              "    border: none;\n",
              "    border-radius: 50%;\n",
              "    cursor: pointer;\n",
              "    display: none;\n",
              "    fill: var(--fill-color);\n",
              "    height: 32px;\n",
              "    padding: 0;\n",
              "    width: 32px;\n",
              "  }\n",
              "\n",
              "  .colab-df-quickchart:hover {\n",
              "    background-color: var(--hover-bg-color);\n",
              "    box-shadow: 0 1px 2px rgba(60, 64, 67, 0.3), 0 1px 3px 1px rgba(60, 64, 67, 0.15);\n",
              "    fill: var(--button-hover-fill-color);\n",
              "  }\n",
              "\n",
              "  .colab-df-quickchart-complete:disabled,\n",
              "  .colab-df-quickchart-complete:disabled:hover {\n",
              "    background-color: var(--disabled-bg-color);\n",
              "    fill: var(--disabled-fill-color);\n",
              "    box-shadow: none;\n",
              "  }\n",
              "\n",
              "  .colab-df-spinner {\n",
              "    border: 2px solid var(--fill-color);\n",
              "    border-color: transparent;\n",
              "    border-bottom-color: var(--fill-color);\n",
              "    animation:\n",
              "      spin 1s steps(1) infinite;\n",
              "  }\n",
              "\n",
              "  @keyframes spin {\n",
              "    0% {\n",
              "      border-color: transparent;\n",
              "      border-bottom-color: var(--fill-color);\n",
              "      border-left-color: var(--fill-color);\n",
              "    }\n",
              "    20% {\n",
              "      border-color: transparent;\n",
              "      border-left-color: var(--fill-color);\n",
              "      border-top-color: var(--fill-color);\n",
              "    }\n",
              "    30% {\n",
              "      border-color: transparent;\n",
              "      border-left-color: var(--fill-color);\n",
              "      border-top-color: var(--fill-color);\n",
              "      border-right-color: var(--fill-color);\n",
              "    }\n",
              "    40% {\n",
              "      border-color: transparent;\n",
              "      border-right-color: var(--fill-color);\n",
              "      border-top-color: var(--fill-color);\n",
              "    }\n",
              "    60% {\n",
              "      border-color: transparent;\n",
              "      border-right-color: var(--fill-color);\n",
              "    }\n",
              "    80% {\n",
              "      border-color: transparent;\n",
              "      border-right-color: var(--fill-color);\n",
              "      border-bottom-color: var(--fill-color);\n",
              "    }\n",
              "    90% {\n",
              "      border-color: transparent;\n",
              "      border-bottom-color: var(--fill-color);\n",
              "    }\n",
              "  }\n",
              "</style>\n",
              "\n",
              "      <script>\n",
              "        async function quickchart(key) {\n",
              "          const quickchartButtonEl =\n",
              "            document.querySelector('#' + key + ' button');\n",
              "          quickchartButtonEl.disabled = true;  // To prevent multiple clicks.\n",
              "          quickchartButtonEl.classList.add('colab-df-spinner');\n",
              "          try {\n",
              "            const charts = await google.colab.kernel.invokeFunction(\n",
              "                'suggestCharts', [key], {});\n",
              "          } catch (error) {\n",
              "            console.error('Error during call to suggestCharts:', error);\n",
              "          }\n",
              "          quickchartButtonEl.classList.remove('colab-df-spinner');\n",
              "          quickchartButtonEl.classList.add('colab-df-quickchart-complete');\n",
              "        }\n",
              "        (() => {\n",
              "          let quickchartButtonEl =\n",
              "            document.querySelector('#df-77fcd68e-a3e4-45b6-becd-976314aad76b button');\n",
              "          quickchartButtonEl.style.display =\n",
              "            google.colab.kernel.accessAllowed ? 'block' : 'none';\n",
              "        })();\n",
              "      </script>\n",
              "    </div>\n",
              "\n",
              "    </div>\n",
              "  </div>\n"
            ],
            "application/vnd.google.colaboratory.intrinsic+json": {
              "type": "dataframe",
              "variable_name": "data"
            }
          },
          "metadata": {},
          "execution_count": 3
        }
      ],
      "source": [
        "data.head()"
      ]
    },
    {
      "cell_type": "code",
      "execution_count": 4,
      "metadata": {
        "colab": {
          "base_uri": "https://localhost:8080/"
        },
        "id": "pdMslsm5DzyG",
        "outputId": "dca30ade-8f05-4c9c-ece3-c63c5beac8ec"
      },
      "outputs": [
        {
          "output_type": "stream",
          "name": "stdout",
          "text": [
            "Index(['id', 'teacher_prefix', 'school_state', 'project_grade_category',\n",
            "       'project_subject_categories', 'project_subject_subcategories',\n",
            "       'teacher_number_of_previously_posted_projects', 'project_is_approved',\n",
            "       'price', 'quantity', 'cleaned_titles', 'cleaned_essays',\n",
            "       'cleaned_summary', 'isdigit_summary'],\n",
            "      dtype='object')\n"
          ]
        }
      ],
      "source": [
        "print(data.columns)"
      ]
    },
    {
      "cell_type": "code",
      "execution_count": 5,
      "metadata": {
        "colab": {
          "base_uri": "https://localhost:8080/"
        },
        "id": "EwMN676tFvPw",
        "outputId": "b1cad6d7-c350-44d8-e654-8d684388f466"
      },
      "outputs": [
        {
          "output_type": "stream",
          "name": "stdout",
          "text": [
            "<class 'pandas.core.frame.DataFrame'>\n",
            "RangeIndex: 109248 entries, 0 to 109247\n",
            "Data columns (total 14 columns):\n",
            " #   Column                                        Non-Null Count   Dtype  \n",
            "---  ------                                        --------------   -----  \n",
            " 0   id                                            109248 non-null  object \n",
            " 1   teacher_prefix                                109248 non-null  object \n",
            " 2   school_state                                  109248 non-null  object \n",
            " 3   project_grade_category                        109248 non-null  object \n",
            " 4   project_subject_categories                    109248 non-null  object \n",
            " 5   project_subject_subcategories                 109248 non-null  object \n",
            " 6   teacher_number_of_previously_posted_projects  109248 non-null  int64  \n",
            " 7   project_is_approved                           109248 non-null  int64  \n",
            " 8   price                                         109248 non-null  float64\n",
            " 9   quantity                                      109248 non-null  int64  \n",
            " 10  cleaned_titles                                109205 non-null  object \n",
            " 11  cleaned_essays                                109248 non-null  object \n",
            " 12  cleaned_summary                               109248 non-null  object \n",
            " 13  isdigit_summary                               109248 non-null  int64  \n",
            "dtypes: float64(1), int64(4), object(9)\n",
            "memory usage: 11.7+ MB\n"
          ]
        }
      ],
      "source": [
        "data.info()"
      ]
    },
    {
      "cell_type": "code",
      "execution_count": 6,
      "metadata": {
        "colab": {
          "base_uri": "https://localhost:8080/",
          "height": 300
        },
        "id": "iBNnO8IpF0Dt",
        "outputId": "03f73000-0d18-47a6-a5f2-ce3ba3c17b84"
      },
      "outputs": [
        {
          "output_type": "execute_result",
          "data": {
            "text/plain": [
              "       teacher_number_of_previously_posted_projects  project_is_approved  \\\n",
              "count                                 109248.000000        109248.000000   \n",
              "mean                                      11.153165             0.848583   \n",
              "std                                       27.777154             0.358456   \n",
              "min                                        0.000000             0.000000   \n",
              "25%                                        0.000000             1.000000   \n",
              "50%                                        2.000000             1.000000   \n",
              "75%                                        9.000000             1.000000   \n",
              "max                                      451.000000             1.000000   \n",
              "\n",
              "               price       quantity  isdigit_summary  \n",
              "count  109248.000000  109248.000000    109248.000000  \n",
              "mean      298.119343      16.965610         0.144222  \n",
              "std       367.498030      26.182942         0.351317  \n",
              "min         0.660000       1.000000         0.000000  \n",
              "25%       104.310000       4.000000         0.000000  \n",
              "50%       206.220000       9.000000         0.000000  \n",
              "75%       379.000000      21.000000         0.000000  \n",
              "max      9999.000000     930.000000         1.000000  "
            ],
            "text/html": [
              "\n",
              "  <div id=\"df-a0da71f9-a503-49aa-b069-14f60d343cbb\" class=\"colab-df-container\">\n",
              "    <div>\n",
              "<style scoped>\n",
              "    .dataframe tbody tr th:only-of-type {\n",
              "        vertical-align: middle;\n",
              "    }\n",
              "\n",
              "    .dataframe tbody tr th {\n",
              "        vertical-align: top;\n",
              "    }\n",
              "\n",
              "    .dataframe thead th {\n",
              "        text-align: right;\n",
              "    }\n",
              "</style>\n",
              "<table border=\"1\" class=\"dataframe\">\n",
              "  <thead>\n",
              "    <tr style=\"text-align: right;\">\n",
              "      <th></th>\n",
              "      <th>teacher_number_of_previously_posted_projects</th>\n",
              "      <th>project_is_approved</th>\n",
              "      <th>price</th>\n",
              "      <th>quantity</th>\n",
              "      <th>isdigit_summary</th>\n",
              "    </tr>\n",
              "  </thead>\n",
              "  <tbody>\n",
              "    <tr>\n",
              "      <th>count</th>\n",
              "      <td>109248.000000</td>\n",
              "      <td>109248.000000</td>\n",
              "      <td>109248.000000</td>\n",
              "      <td>109248.000000</td>\n",
              "      <td>109248.000000</td>\n",
              "    </tr>\n",
              "    <tr>\n",
              "      <th>mean</th>\n",
              "      <td>11.153165</td>\n",
              "      <td>0.848583</td>\n",
              "      <td>298.119343</td>\n",
              "      <td>16.965610</td>\n",
              "      <td>0.144222</td>\n",
              "    </tr>\n",
              "    <tr>\n",
              "      <th>std</th>\n",
              "      <td>27.777154</td>\n",
              "      <td>0.358456</td>\n",
              "      <td>367.498030</td>\n",
              "      <td>26.182942</td>\n",
              "      <td>0.351317</td>\n",
              "    </tr>\n",
              "    <tr>\n",
              "      <th>min</th>\n",
              "      <td>0.000000</td>\n",
              "      <td>0.000000</td>\n",
              "      <td>0.660000</td>\n",
              "      <td>1.000000</td>\n",
              "      <td>0.000000</td>\n",
              "    </tr>\n",
              "    <tr>\n",
              "      <th>25%</th>\n",
              "      <td>0.000000</td>\n",
              "      <td>1.000000</td>\n",
              "      <td>104.310000</td>\n",
              "      <td>4.000000</td>\n",
              "      <td>0.000000</td>\n",
              "    </tr>\n",
              "    <tr>\n",
              "      <th>50%</th>\n",
              "      <td>2.000000</td>\n",
              "      <td>1.000000</td>\n",
              "      <td>206.220000</td>\n",
              "      <td>9.000000</td>\n",
              "      <td>0.000000</td>\n",
              "    </tr>\n",
              "    <tr>\n",
              "      <th>75%</th>\n",
              "      <td>9.000000</td>\n",
              "      <td>1.000000</td>\n",
              "      <td>379.000000</td>\n",
              "      <td>21.000000</td>\n",
              "      <td>0.000000</td>\n",
              "    </tr>\n",
              "    <tr>\n",
              "      <th>max</th>\n",
              "      <td>451.000000</td>\n",
              "      <td>1.000000</td>\n",
              "      <td>9999.000000</td>\n",
              "      <td>930.000000</td>\n",
              "      <td>1.000000</td>\n",
              "    </tr>\n",
              "  </tbody>\n",
              "</table>\n",
              "</div>\n",
              "    <div class=\"colab-df-buttons\">\n",
              "\n",
              "  <div class=\"colab-df-container\">\n",
              "    <button class=\"colab-df-convert\" onclick=\"convertToInteractive('df-a0da71f9-a503-49aa-b069-14f60d343cbb')\"\n",
              "            title=\"Convert this dataframe to an interactive table.\"\n",
              "            style=\"display:none;\">\n",
              "\n",
              "  <svg xmlns=\"http://www.w3.org/2000/svg\" height=\"24px\" viewBox=\"0 -960 960 960\">\n",
              "    <path d=\"M120-120v-720h720v720H120Zm60-500h600v-160H180v160Zm220 220h160v-160H400v160Zm0 220h160v-160H400v160ZM180-400h160v-160H180v160Zm440 0h160v-160H620v160ZM180-180h160v-160H180v160Zm440 0h160v-160H620v160Z\"/>\n",
              "  </svg>\n",
              "    </button>\n",
              "\n",
              "  <style>\n",
              "    .colab-df-container {\n",
              "      display:flex;\n",
              "      gap: 12px;\n",
              "    }\n",
              "\n",
              "    .colab-df-convert {\n",
              "      background-color: #E8F0FE;\n",
              "      border: none;\n",
              "      border-radius: 50%;\n",
              "      cursor: pointer;\n",
              "      display: none;\n",
              "      fill: #1967D2;\n",
              "      height: 32px;\n",
              "      padding: 0 0 0 0;\n",
              "      width: 32px;\n",
              "    }\n",
              "\n",
              "    .colab-df-convert:hover {\n",
              "      background-color: #E2EBFA;\n",
              "      box-shadow: 0px 1px 2px rgba(60, 64, 67, 0.3), 0px 1px 3px 1px rgba(60, 64, 67, 0.15);\n",
              "      fill: #174EA6;\n",
              "    }\n",
              "\n",
              "    .colab-df-buttons div {\n",
              "      margin-bottom: 4px;\n",
              "    }\n",
              "\n",
              "    [theme=dark] .colab-df-convert {\n",
              "      background-color: #3B4455;\n",
              "      fill: #D2E3FC;\n",
              "    }\n",
              "\n",
              "    [theme=dark] .colab-df-convert:hover {\n",
              "      background-color: #434B5C;\n",
              "      box-shadow: 0px 1px 3px 1px rgba(0, 0, 0, 0.15);\n",
              "      filter: drop-shadow(0px 1px 2px rgba(0, 0, 0, 0.3));\n",
              "      fill: #FFFFFF;\n",
              "    }\n",
              "  </style>\n",
              "\n",
              "    <script>\n",
              "      const buttonEl =\n",
              "        document.querySelector('#df-a0da71f9-a503-49aa-b069-14f60d343cbb button.colab-df-convert');\n",
              "      buttonEl.style.display =\n",
              "        google.colab.kernel.accessAllowed ? 'block' : 'none';\n",
              "\n",
              "      async function convertToInteractive(key) {\n",
              "        const element = document.querySelector('#df-a0da71f9-a503-49aa-b069-14f60d343cbb');\n",
              "        const dataTable =\n",
              "          await google.colab.kernel.invokeFunction('convertToInteractive',\n",
              "                                                    [key], {});\n",
              "        if (!dataTable) return;\n",
              "\n",
              "        const docLinkHtml = 'Like what you see? Visit the ' +\n",
              "          '<a target=\"_blank\" href=https://colab.research.google.com/notebooks/data_table.ipynb>data table notebook</a>'\n",
              "          + ' to learn more about interactive tables.';\n",
              "        element.innerHTML = '';\n",
              "        dataTable['output_type'] = 'display_data';\n",
              "        await google.colab.output.renderOutput(dataTable, element);\n",
              "        const docLink = document.createElement('div');\n",
              "        docLink.innerHTML = docLinkHtml;\n",
              "        element.appendChild(docLink);\n",
              "      }\n",
              "    </script>\n",
              "  </div>\n",
              "\n",
              "\n",
              "    <div id=\"df-994dc6ef-b633-43ea-83a6-ab0ba8817dbc\">\n",
              "      <button class=\"colab-df-quickchart\" onclick=\"quickchart('df-994dc6ef-b633-43ea-83a6-ab0ba8817dbc')\"\n",
              "                title=\"Suggest charts\"\n",
              "                style=\"display:none;\">\n",
              "\n",
              "<svg xmlns=\"http://www.w3.org/2000/svg\" height=\"24px\"viewBox=\"0 0 24 24\"\n",
              "     width=\"24px\">\n",
              "    <g>\n",
              "        <path d=\"M19 3H5c-1.1 0-2 .9-2 2v14c0 1.1.9 2 2 2h14c1.1 0 2-.9 2-2V5c0-1.1-.9-2-2-2zM9 17H7v-7h2v7zm4 0h-2V7h2v10zm4 0h-2v-4h2v4z\"/>\n",
              "    </g>\n",
              "</svg>\n",
              "      </button>\n",
              "\n",
              "<style>\n",
              "  .colab-df-quickchart {\n",
              "      --bg-color: #E8F0FE;\n",
              "      --fill-color: #1967D2;\n",
              "      --hover-bg-color: #E2EBFA;\n",
              "      --hover-fill-color: #174EA6;\n",
              "      --disabled-fill-color: #AAA;\n",
              "      --disabled-bg-color: #DDD;\n",
              "  }\n",
              "\n",
              "  [theme=dark] .colab-df-quickchart {\n",
              "      --bg-color: #3B4455;\n",
              "      --fill-color: #D2E3FC;\n",
              "      --hover-bg-color: #434B5C;\n",
              "      --hover-fill-color: #FFFFFF;\n",
              "      --disabled-bg-color: #3B4455;\n",
              "      --disabled-fill-color: #666;\n",
              "  }\n",
              "\n",
              "  .colab-df-quickchart {\n",
              "    background-color: var(--bg-color);\n",
              "    border: none;\n",
              "    border-radius: 50%;\n",
              "    cursor: pointer;\n",
              "    display: none;\n",
              "    fill: var(--fill-color);\n",
              "    height: 32px;\n",
              "    padding: 0;\n",
              "    width: 32px;\n",
              "  }\n",
              "\n",
              "  .colab-df-quickchart:hover {\n",
              "    background-color: var(--hover-bg-color);\n",
              "    box-shadow: 0 1px 2px rgba(60, 64, 67, 0.3), 0 1px 3px 1px rgba(60, 64, 67, 0.15);\n",
              "    fill: var(--button-hover-fill-color);\n",
              "  }\n",
              "\n",
              "  .colab-df-quickchart-complete:disabled,\n",
              "  .colab-df-quickchart-complete:disabled:hover {\n",
              "    background-color: var(--disabled-bg-color);\n",
              "    fill: var(--disabled-fill-color);\n",
              "    box-shadow: none;\n",
              "  }\n",
              "\n",
              "  .colab-df-spinner {\n",
              "    border: 2px solid var(--fill-color);\n",
              "    border-color: transparent;\n",
              "    border-bottom-color: var(--fill-color);\n",
              "    animation:\n",
              "      spin 1s steps(1) infinite;\n",
              "  }\n",
              "\n",
              "  @keyframes spin {\n",
              "    0% {\n",
              "      border-color: transparent;\n",
              "      border-bottom-color: var(--fill-color);\n",
              "      border-left-color: var(--fill-color);\n",
              "    }\n",
              "    20% {\n",
              "      border-color: transparent;\n",
              "      border-left-color: var(--fill-color);\n",
              "      border-top-color: var(--fill-color);\n",
              "    }\n",
              "    30% {\n",
              "      border-color: transparent;\n",
              "      border-left-color: var(--fill-color);\n",
              "      border-top-color: var(--fill-color);\n",
              "      border-right-color: var(--fill-color);\n",
              "    }\n",
              "    40% {\n",
              "      border-color: transparent;\n",
              "      border-right-color: var(--fill-color);\n",
              "      border-top-color: var(--fill-color);\n",
              "    }\n",
              "    60% {\n",
              "      border-color: transparent;\n",
              "      border-right-color: var(--fill-color);\n",
              "    }\n",
              "    80% {\n",
              "      border-color: transparent;\n",
              "      border-right-color: var(--fill-color);\n",
              "      border-bottom-color: var(--fill-color);\n",
              "    }\n",
              "    90% {\n",
              "      border-color: transparent;\n",
              "      border-bottom-color: var(--fill-color);\n",
              "    }\n",
              "  }\n",
              "</style>\n",
              "\n",
              "      <script>\n",
              "        async function quickchart(key) {\n",
              "          const quickchartButtonEl =\n",
              "            document.querySelector('#' + key + ' button');\n",
              "          quickchartButtonEl.disabled = true;  // To prevent multiple clicks.\n",
              "          quickchartButtonEl.classList.add('colab-df-spinner');\n",
              "          try {\n",
              "            const charts = await google.colab.kernel.invokeFunction(\n",
              "                'suggestCharts', [key], {});\n",
              "          } catch (error) {\n",
              "            console.error('Error during call to suggestCharts:', error);\n",
              "          }\n",
              "          quickchartButtonEl.classList.remove('colab-df-spinner');\n",
              "          quickchartButtonEl.classList.add('colab-df-quickchart-complete');\n",
              "        }\n",
              "        (() => {\n",
              "          let quickchartButtonEl =\n",
              "            document.querySelector('#df-994dc6ef-b633-43ea-83a6-ab0ba8817dbc button');\n",
              "          quickchartButtonEl.style.display =\n",
              "            google.colab.kernel.accessAllowed ? 'block' : 'none';\n",
              "        })();\n",
              "      </script>\n",
              "    </div>\n",
              "\n",
              "    </div>\n",
              "  </div>\n"
            ],
            "application/vnd.google.colaboratory.intrinsic+json": {
              "type": "dataframe",
              "summary": "{\n  \"name\": \"data\",\n  \"rows\": 8,\n  \"fields\": [\n    {\n      \"column\": \"teacher_number_of_previously_posted_projects\",\n      \"properties\": {\n        \"dtype\": \"number\",\n        \"std\": 38600.01188507908,\n        \"min\": 0.0,\n        \"max\": 109248.0,\n        \"num_unique_values\": 7,\n        \"samples\": [\n          109248.0,\n          11.153165275336848,\n          9.0\n        ],\n        \"semantic_type\": \"\",\n        \"description\": \"\"\n      }\n    },\n    {\n      \"column\": \"project_is_approved\",\n      \"properties\": {\n        \"dtype\": \"number\",\n        \"std\": 38624.73782212701,\n        \"min\": 0.0,\n        \"max\": 109248.0,\n        \"num_unique_values\": 5,\n        \"samples\": [\n          0.8485830404217927,\n          1.0,\n          0.35845646886500515\n        ],\n        \"semantic_type\": \"\",\n        \"description\": \"\"\n      }\n    },\n    {\n      \"column\": \"price\",\n      \"properties\": {\n        \"dtype\": \"number\",\n        \"std\": 38205.079767646916,\n        \"min\": 0.66,\n        \"max\": 109248.0,\n        \"num_unique_values\": 8,\n        \"samples\": [\n          298.1193425966608,\n          206.22,\n          109248.0\n        ],\n        \"semantic_type\": \"\",\n        \"description\": \"\"\n      }\n    },\n    {\n      \"column\": \"quantity\",\n      \"properties\": {\n        \"dtype\": \"number\",\n        \"std\": 38575.41709743091,\n        \"min\": 1.0,\n        \"max\": 109248.0,\n        \"num_unique_values\": 8,\n        \"samples\": [\n          16.965610354422964,\n          9.0,\n          109248.0\n        ],\n        \"semantic_type\": \"\",\n        \"description\": \"\"\n      }\n    },\n    {\n      \"column\": \"isdigit_summary\",\n      \"properties\": {\n        \"dtype\": \"number\",\n        \"std\": 38624.92528093548,\n        \"min\": 0.0,\n        \"max\": 109248.0,\n        \"num_unique_values\": 5,\n        \"samples\": [\n          0.14422231985940245,\n          1.0,\n          0.35131662651777706\n        ],\n        \"semantic_type\": \"\",\n        \"description\": \"\"\n      }\n    }\n  ]\n}"
            }
          },
          "metadata": {},
          "execution_count": 6
        }
      ],
      "source": [
        "data.describe()"
      ]
    },
    {
      "cell_type": "code",
      "execution_count": 5,
      "metadata": {
        "colab": {
          "base_uri": "https://localhost:8080/"
        },
        "id": "_qoXcQaEGKcx",
        "outputId": "846718c0-1bb5-42d3-cbc0-9e883fae0166"
      },
      "outputs": [
        {
          "output_type": "stream",
          "name": "stdout",
          "text": [
            "Class counts for target variable :\n",
            "project_is_approved\n",
            "1    92706\n",
            "0    16542\n",
            "Name: count, dtype: int64\n",
            "\n",
            "Class balance :\n",
            "project_is_approved\n",
            "1    84.858304\n",
            "0    15.141696\n",
            "Name: proportion, dtype: float64\n"
          ]
        }
      ],
      "source": [
        "target_column = 'project_is_approved'\n",
        "\n",
        "print(f\"Class counts for target variable :\")\n",
        "print(data[target_column].value_counts())\n",
        "\n",
        "print(f\"\\nClass balance :\")\n",
        "print(data[target_column].value_counts(normalize=True) * 100)"
      ]
    },
    {
      "cell_type": "code",
      "execution_count": 6,
      "metadata": {
        "colab": {
          "base_uri": "https://localhost:8080/"
        },
        "id": "CpjMTceQId6c",
        "outputId": "4d594132-6c67-4ffd-e81e-b1e54e6faa91"
      },
      "outputs": [
        {
          "output_type": "stream",
          "name": "stderr",
          "text": [
            "[nltk_data] Downloading package stopwords to /root/nltk_data...\n",
            "[nltk_data]   Package stopwords is already up-to-date!\n",
            "[nltk_data] Downloading package punkt_tab to /root/nltk_data...\n",
            "[nltk_data]   Package punkt_tab is already up-to-date!\n",
            "[nltk_data] Downloading package wordnet to /root/nltk_data...\n",
            "[nltk_data]   Package wordnet is already up-to-date!\n"
          ]
        },
        {
          "output_type": "execute_result",
          "data": {
            "text/plain": [
              "True"
            ]
          },
          "metadata": {},
          "execution_count": 6
        }
      ],
      "source": [
        "import nltk\n",
        "nltk.download('stopwords')\n",
        "nltk.download('punkt_tab')\n",
        "nltk.download('wordnet')"
      ]
    },
    {
      "cell_type": "code",
      "execution_count": 7,
      "metadata": {
        "colab": {
          "base_uri": "https://localhost:8080/"
        },
        "id": "W9jv6Oz1Jjwr",
        "outputId": "8227e487-0c16-4058-a1ac-5ea2267c25e9"
      },
      "outputs": [
        {
          "output_type": "stream",
          "name": "stdout",
          "text": [
            "                                      cleaned_essays  \\\n",
            "0  students english learners working english seco...   \n",
            "1  students arrive school eager learn polite gene...   \n",
            "2  true champions not always ones win guts mia ha...   \n",
            "3  work unique school filled esl english second l...   \n",
            "4  second grade classroom next year made around 2...   \n",
            "\n",
            "                                 project_essay_clean  \n",
            "0  studentsenglishlearnersworkingenglishsecondthi...  \n",
            "1  studentsarriveschooleagerlearnpolitegenerousst...  \n",
            "2  truechampionsalwaysoneswingutsmiahammquotebest...  \n",
            "3  workuniqueschoolfilledeslenglishsecondlanguage...  \n",
            "4  secondgradeclassroomnextyearmadearound25kidsma...  \n"
          ]
        }
      ],
      "source": [
        "import re\n",
        "stopwords = nltk.corpus.stopwords.words('english')\n",
        "\n",
        "def clean_text(text):\n",
        "    text = text.lower()\n",
        "    text = re.sub(r'<.*?>', '', text)\n",
        "    text = re.sub(r'[^a-zA-Z0-9\\s]', '', text)\n",
        "    text = re.sub(r'\\s+', ' ', text)\n",
        "    text = ''.join([word for word in text.split() if word not in stopwords])\n",
        "    return text\n",
        "\n",
        "data['project_essay_clean'] = data['cleaned_essays'].apply(clean_text)\n",
        "print(data[['cleaned_essays', 'project_essay_clean']].head())\n"
      ]
    },
    {
      "cell_type": "code",
      "execution_count": 8,
      "metadata": {
        "colab": {
          "base_uri": "https://localhost:8080/"
        },
        "id": "L86ZvxjQJmrk",
        "outputId": "46dd7f98-6713-4923-8499-ef65e7f66edf"
      },
      "outputs": [
        {
          "output_type": "stream",
          "name": "stdout",
          "text": [
            "['studentsenglishlearnersworkingenglishsecondthirdlanguagesmeltingpotrefugeesimmigrantsnativebornamericansbringinggiftlanguageschool24languagesrepresentedenglishlearnerprogramstudentseverylevelmasteryalso40countriesrepresentedfamilieswithinschoolstudentbringswealthknowledgeexperiencesusopeneyesnewculturesbeliefsrespectlimitslanguagelimitsworldludwigwittgensteinenglishlearnerstrongsupportsystemhomebegsresourcesmanytimesparentslearningreadspeakenglishalongsidechildrensometimescreatesbarriersparentsablehelpchildlearnphoneticsletterrecognitionreadingskillsprovidingdvdplayersstudentsablecontinuemasteryenglishlanguageevenonehomeableassistfamiliesstudentswithinlevel1proficiencystatusofferedpartprogrameducationalvideosspeciallychosenenglishlearnerteachersenthomeregularlywatchvideoshelpchilddevelopearlyreadingskillsparentsaccessdvdplayeropportunitycheckdvdplayeruseyearplanusevideoseducationaldvdyearscomeelstudents']\n",
            "                                 project_essay_clean  \\\n",
            "0  studentsenglishlearnersworkingenglishsecondthi...   \n",
            "1  studentsarriveschooleagerlearnpolitegenerousst...   \n",
            "2  truechampionsalwaysoneswingutsmiahammquotebest...   \n",
            "3  workuniqueschoolfilledeslenglishsecondlanguage...   \n",
            "4  secondgradeclassroomnextyearmadearound25kidsma...   \n",
            "\n",
            "                                        essays_token  \n",
            "0  [studentsenglishlearnersworkingenglishsecondth...  \n",
            "1  [studentsarriveschooleagerlearnpolitegenerouss...  \n",
            "2  [truechampionsalwaysoneswingutsmiahammquotebes...  \n",
            "3  [workuniqueschoolfilledeslenglishsecondlanguag...  \n",
            "4  [secondgradeclassroomnextyearmadearound25kidsm...  \n"
          ]
        }
      ],
      "source": [
        "from nltk.tokenize import word_tokenize\n",
        "\n",
        "text = data['project_essay_clean'][0]\n",
        "tokens = word_tokenize(text)\n",
        "print(tokens)\n",
        "\n",
        "data['essays_token'] = data['project_essay_clean'].apply(word_tokenize)\n",
        "print(data[['project_essay_clean','essays_token']].head())"
      ]
    },
    {
      "cell_type": "code",
      "execution_count": 9,
      "metadata": {
        "colab": {
          "base_uri": "https://localhost:8080/"
        },
        "id": "fQF2-Q2QNZG_",
        "outputId": "eed11ffe-b43e-4564-b803-1f43353c0228"
      },
      "outputs": [
        {
          "output_type": "stream",
          "name": "stdout",
          "text": [
            "                                 project_essay_clean  \\\n",
            "0  studentsenglishlearnersworkingenglishsecondthi...   \n",
            "1  studentsarriveschooleagerlearnpolitegenerousst...   \n",
            "2  truechampionsalwaysoneswingutsmiahammquotebest...   \n",
            "3  workuniqueschoolfilledeslenglishsecondlanguage...   \n",
            "4  secondgradeclassroomnextyearmadearound25kidsma...   \n",
            "\n",
            "                                   lemmatized_essays  \n",
            "0  [studentsenglishlearnersworkingenglishsecondth...  \n",
            "1  [studentsarriveschooleagerlearnpolitegenerouss...  \n",
            "2  [truechampionsalwaysoneswingutsmiahammquotebes...  \n",
            "3  [workuniqueschoolfilledeslenglishsecondlanguag...  \n",
            "4  [secondgradeclassroomnextyearmadearound25kidsm...  \n"
          ]
        }
      ],
      "source": [
        "\n",
        "from nltk.stem import WordNetLemmatizer\n",
        "\n",
        "lemmatizer = WordNetLemmatizer()\n",
        "def lemmatize_text(text):\n",
        "    tokens = word_tokenize(text)\n",
        "    lemmatized_tokens = [lemmatizer.lemmatize(token) for token in tokens]\n",
        "    return lemmatized_tokens\n",
        "data['lemmatized_essays'] = data['project_essay_clean'].apply(lemmatize_text)\n",
        "print(data[['project_essay_clean', 'lemmatized_essays']].head())"
      ]
    },
    {
      "cell_type": "code",
      "execution_count": 10,
      "metadata": {
        "colab": {
          "base_uri": "https://localhost:8080/"
        },
        "id": "DvhpMAILPXgD",
        "outputId": "63d6e072-6e43-444a-85bf-67544b1564f5"
      },
      "outputs": [
        {
          "output_type": "stream",
          "name": "stdout",
          "text": [
            "                                 project_essay_clean  \\\n",
            "0  studentsenglishlearnersworkingenglishsecondthi...   \n",
            "1  studentsarriveschooleagerlearnpolitegenerousst...   \n",
            "2  truechampionsalwaysoneswingutsmiahammquotebest...   \n",
            "3  workuniqueschoolfilledeslenglishsecondlanguage...   \n",
            "4  secondgradeclassroomnextyearmadearound25kidsma...   \n",
            "\n",
            "                                     filtered_essays  \n",
            "0  studentsenglishlearnersworkingenglishsecondthi...  \n",
            "1  studentsarriveschooleagerlearnpolitegenerousst...  \n",
            "2  truechampionsalwaysoneswingutsmiahammquotebest...  \n",
            "3  workuniqueschoolfilledeslenglishsecondlanguage...  \n",
            "4  secondgradeclassroomnextyearmadearound25kidsma...  \n"
          ]
        }
      ],
      "source": [
        "from collections import Counter\n",
        "\n",
        "all_words = ''.join(data['project_essay_clean'])\n",
        "word_counts = Counter(all_words.split())\n",
        "\n",
        "lower_freq_word = set([word for word, count in word_counts.items() if count <= 5])\n",
        "def remove_lower_freq_words(text):\n",
        "  tokens = word_tokenize(text)\n",
        "  tokens = [word for word in tokens if word not in lower_freq_word]\n",
        "  return ' '.join(tokens)\n",
        "\n",
        "data['filtered_essays'] = data['project_essay_clean'].apply(remove_lower_freq_words)\n",
        "print(data[['project_essay_clean', 'filtered_essays']].head())\n"
      ]
    },
    {
      "cell_type": "markdown",
      "metadata": {
        "id": "zggveIpqR4X_"
      },
      "source": [
        "##3. Embedding Approaches"
      ]
    },
    {
      "cell_type": "code",
      "execution_count": 11,
      "metadata": {
        "colab": {
          "base_uri": "https://localhost:8080/"
        },
        "id": "YNaRk906RHq2",
        "outputId": "b4915ef7-6611-4922-b781-d855ab55b641"
      },
      "outputs": [
        {
          "output_type": "stream",
          "name": "stdout",
          "text": [
            "TF-IDF shape: (109248, 5000)\n"
          ]
        }
      ],
      "source": [
        "from sklearn.feature_extraction.text import TfidfVectorizer\n",
        "\n",
        "texts = data['filtered_essays']\n",
        "vectorizer = TfidfVectorizer(ngram_range=(1,3), max_features=5000)\n",
        "X_tfidf = vectorizer.fit_transform(texts)\n",
        "\n",
        "print(\"TF-IDF shape:\", X_tfidf.shape)"
      ]
    },
    {
      "cell_type": "code",
      "execution_count": 12,
      "metadata": {
        "colab": {
          "base_uri": "https://localhost:8080/"
        },
        "id": "V64BUCbcRs3Z",
        "outputId": "5ce518bb-dc00-4de8-f048-e4b5ba66c9de"
      },
      "outputs": [
        {
          "output_type": "stream",
          "name": "stdout",
          "text": [
            "Requirement already satisfied: gensim in /usr/local/lib/python3.12/dist-packages (4.3.3)\n",
            "Requirement already satisfied: numpy<2.0,>=1.18.5 in /usr/local/lib/python3.12/dist-packages (from gensim) (1.26.4)\n",
            "Requirement already satisfied: scipy<1.14.0,>=1.7.0 in /usr/local/lib/python3.12/dist-packages (from gensim) (1.11.4)\n",
            "Requirement already satisfied: smart-open>=1.8.1 in /usr/local/lib/python3.12/dist-packages (from gensim) (7.3.0.post1)\n",
            "Requirement already satisfied: wrapt in /usr/local/lib/python3.12/dist-packages (from smart-open>=1.8.1->gensim) (1.17.3)\n",
            "Word2Vec shape: (109248, 300)\n"
          ]
        }
      ],
      "source": [
        "#Pre-trained Word2Vec\n",
        "!pip install gensim\n",
        "\n",
        "import gensim.downloader as api\n",
        "\n",
        "word2vec_model = api.load('word2vec-google-news-300')\n",
        "\n",
        "def document_vector(doc):\n",
        "    tokens = doc.split()\n",
        "    vectors = [word2vec_model[word] for word in tokens if word in word2vec_model]\n",
        "    if len(vectors) == 0:\n",
        "        return np.zeros(300)\n",
        "    return np.mean(vectors, axis=0)\n",
        "\n",
        "X_w2v = np.array([document_vector(doc) for doc in texts])\n",
        "\n",
        "print(\"Word2Vec shape:\", X_w2v.shape)"
      ]
    },
    {
      "cell_type": "markdown",
      "metadata": {
        "id": "LLZG5q5Bd91Z"
      },
      "source": [
        "##4. Classical ML **Models**"
      ]
    },
    {
      "cell_type": "code",
      "source": [
        "from sklearn.model_selection import train_test_split\n",
        "from sklearn.linear_model import LogisticRegression\n",
        "from sklearn.svm import LinearSVC\n",
        "from sklearn.metrics import accuracy_score, precision_score, recall_score, f1_score, confusion_matrix\n",
        "\n",
        "# Target variable\n",
        "y = data['project_is_approved']\n",
        "\n",
        "from sklearn.feature_extraction.text import TfidfVectorizer\n",
        "\n",
        "tfidf = TfidfVectorizer(max_features=5000)\n",
        "X_tfidf_reduced = tfidf.fit_transform(data['filtered_essays'])\n",
        "\n",
        "# Train-test split\n",
        "X_train_tfidf, X_test_tfidf, y_train, y_test = train_test_split(X_tfidf_reduced, y, test_size=0.2, random_state=42)\n",
        "X_train_w2v, X_test_w2v, _, _ = train_test_split(X_w2v, y, test_size=0.2, random_state=42)\n",
        "\n",
        "models = {\n",
        "    \"Logistic Regression\": LogisticRegression(max_iter=500, n_jobs=-1, random_state=42),\n",
        "    \"Linear SVM\": LinearSVC(random_state=42)\n",
        "}\n",
        "\n",
        "def evaluate_model(model, X_train, y_train, X_test, y_test, name):\n",
        "    model.fit(X_train, y_train)\n",
        "    y_pred = model.predict(X_test)\n",
        "\n",
        "    accuracy = accuracy_score(y_test, y_pred)\n",
        "    precision = precision_score(y_test, y_pred)\n",
        "    recall = recall_score(y_test, y_pred)\n",
        "    f1 = f1_score(y_test, y_pred)\n",
        "\n",
        "    print(f\"\\n{name} Results:\")\n",
        "    print(\"Accuracy:\", round(accuracy, 4))\n",
        "    print(\"Precision:\", round(precision, 4))\n",
        "    print(\"Recall:\", round(recall, 4))\n",
        "    print(\"F1 Score:\", round(f1, 4))\n",
        "    print(\"Confusion Matrix:\\n\", confusion_matrix(y_test, y_pred))\n",
        "\n",
        "\n",
        "print(\"TF-IDF Model:\")\n",
        "for name, model in models.items():\n",
        "    evaluate_model(model, X_train_tfidf, y_train, X_test_tfidf, y_test, name + \" (TF-IDF)\")\n",
        "\n",
        "print(\"\\nWord2Vec Model:\")\n",
        "for name, model in models.items():\n",
        "    evaluate_model(model, X_train_w2v, y_train, X_test_w2v, y_test, name + \" (Word2Vec)\")\n"
      ],
      "metadata": {
        "colab": {
          "base_uri": "https://localhost:8080/"
        },
        "id": "wAqAMz2MvrOD",
        "outputId": "7d92f49b-c6f9-41ce-d3ba-9b5907610190"
      },
      "execution_count": 13,
      "outputs": [
        {
          "output_type": "stream",
          "name": "stdout",
          "text": [
            "TF-IDF Model:\n",
            "\n",
            "Logistic Regression (TF-IDF) Results:\n",
            "Accuracy: 0.8482\n",
            "Precision: 0.8482\n",
            "Recall: 1.0\n",
            "F1 Score: 0.9179\n",
            "Confusion Matrix:\n",
            " [[    0  3316]\n",
            " [    0 18534]]\n",
            "\n",
            "Linear SVM (TF-IDF) Results:\n",
            "Accuracy: 0.8479\n",
            "Precision: 0.8483\n",
            "Recall: 0.9994\n",
            "F1 Score: 0.9177\n",
            "Confusion Matrix:\n",
            " [[    3  3313]\n",
            " [   11 18523]]\n",
            "\n",
            "Word2Vec Model:\n",
            "\n",
            "Logistic Regression (Word2Vec) Results:\n",
            "Accuracy: 0.8482\n",
            "Precision: 0.8482\n",
            "Recall: 1.0\n",
            "F1 Score: 0.9179\n",
            "Confusion Matrix:\n",
            " [[    0  3316]\n",
            " [    0 18534]]\n",
            "\n",
            "Linear SVM (Word2Vec) Results:\n",
            "Accuracy: 0.8482\n",
            "Precision: 0.8482\n",
            "Recall: 1.0\n",
            "F1 Score: 0.9179\n",
            "Confusion Matrix:\n",
            " [[    0  3316]\n",
            " [    0 18534]]\n"
          ]
        }
      ]
    },
    {
      "cell_type": "markdown",
      "metadata": {
        "id": "s_vvdN4JhvBL"
      },
      "source": [
        "##5. Deep Learning Models"
      ]
    },
    {
      "cell_type": "code",
      "execution_count": 17,
      "metadata": {
        "id": "lY13lQipflln",
        "colab": {
          "base_uri": "https://localhost:8080/"
        },
        "outputId": "fe588ae4-a064-443e-8cba-c640a9976971"
      },
      "outputs": [
        {
          "output_type": "stream",
          "name": "stdout",
          "text": [
            "Epoch 1/10\n"
          ]
        },
        {
          "output_type": "stream",
          "name": "stderr",
          "text": [
            "/usr/local/lib/python3.12/dist-packages/keras/src/layers/core/embedding.py:97: UserWarning: Argument `input_length` is deprecated. Just remove it.\n",
            "  warnings.warn(\n"
          ]
        },
        {
          "output_type": "stream",
          "name": "stdout",
          "text": [
            "\u001b[1m2732/2732\u001b[0m \u001b[32m━━━━━━━━━━━━━━━━━━━━\u001b[0m\u001b[37m\u001b[0m \u001b[1m34s\u001b[0m 12ms/step - accuracy: 0.8464 - loss: 0.4559 - val_accuracy: 0.8482 - val_loss: 0.4259\n",
            "Epoch 2/10\n",
            "\u001b[1m2732/2732\u001b[0m \u001b[32m━━━━━━━━━━━━━━━━━━━━\u001b[0m\u001b[37m\u001b[0m \u001b[1m31s\u001b[0m 11ms/step - accuracy: 0.9744 - loss: 0.0653 - val_accuracy: 0.6898 - val_loss: 0.6615\n",
            "Epoch 3/10\n",
            "\u001b[1m2732/2732\u001b[0m \u001b[32m━━━━━━━━━━━━━━━━━━━━\u001b[0m\u001b[37m\u001b[0m \u001b[1m40s\u001b[0m 11ms/step - accuracy: 0.9990 - loss: 0.0039 - val_accuracy: 0.6935 - val_loss: 0.5958\n",
            "\u001b[1m683/683\u001b[0m \u001b[32m━━━━━━━━━━━━━━━━━━━━\u001b[0m\u001b[37m\u001b[0m \u001b[1m1s\u001b[0m 2ms/step\n",
            "              precision    recall  f1-score   support\n",
            "\n",
            "           0       0.00      0.00      0.00      3316\n",
            "           1       0.85      1.00      0.92     18534\n",
            "\n",
            "    accuracy                           0.85     21850\n",
            "   macro avg       0.42      0.50      0.46     21850\n",
            "weighted avg       0.72      0.85      0.78     21850\n",
            "\n"
          ]
        },
        {
          "output_type": "stream",
          "name": "stderr",
          "text": [
            "/usr/local/lib/python3.12/dist-packages/sklearn/metrics/_classification.py:1565: UndefinedMetricWarning: Precision is ill-defined and being set to 0.0 in labels with no predicted samples. Use `zero_division` parameter to control this behavior.\n",
            "  _warn_prf(average, modifier, f\"{metric.capitalize()} is\", len(result))\n",
            "/usr/local/lib/python3.12/dist-packages/sklearn/metrics/_classification.py:1565: UndefinedMetricWarning: Precision is ill-defined and being set to 0.0 in labels with no predicted samples. Use `zero_division` parameter to control this behavior.\n",
            "  _warn_prf(average, modifier, f\"{metric.capitalize()} is\", len(result))\n",
            "/usr/local/lib/python3.12/dist-packages/sklearn/metrics/_classification.py:1565: UndefinedMetricWarning: Precision is ill-defined and being set to 0.0 in labels with no predicted samples. Use `zero_division` parameter to control this behavior.\n",
            "  _warn_prf(average, modifier, f\"{metric.capitalize()} is\", len(result))\n"
          ]
        }
      ],
      "source": [
        "import numpy as np\n",
        "import tensorflow as tf\n",
        "from tensorflow.keras.models import Sequential\n",
        "from tensorflow.keras.layers import Embedding, LSTM, Dense, Dropout\n",
        "from tensorflow.keras.preprocessing.text import Tokenizer\n",
        "from tensorflow.keras.preprocessing.sequence import pad_sequences\n",
        "from sklearn.model_selection import train_test_split\n",
        "from sklearn.metrics import classification_report\n",
        "from tensorflow.keras.callbacks import EarlyStopping\n",
        "\n",
        "texts = data['filtered_essays']\n",
        "y = data['project_is_approved']\n",
        "\n",
        "tokenizer = Tokenizer()\n",
        "tokenizer.fit_on_texts(texts)\n",
        "sequences = tokenizer.texts_to_sequences(texts)\n",
        "max_length = max(len(seq) for seq in sequences)\n",
        "\n",
        "X = pad_sequences(sequences, maxlen=max_length)\n",
        "\n",
        "X_train, X_test, y_train, y_test = train_test_split(X, y, test_size=0.2, random_state=42)\n",
        "\n",
        "model = Sequential()\n",
        "model.add(Embedding(input_dim=len(tokenizer.word_index) + 1, output_dim=100, input_length=max_length))\n",
        "model.add(LSTM(128))\n",
        "model.add(Dropout(0.2))\n",
        "model.add(Dense(1, activation='sigmoid'))\n",
        "\n",
        "model.compile(loss='binary_crossentropy', optimizer='adam', metrics=['accuracy'])\n",
        "early_stopping = EarlyStopping(monitor='val_loss', patience=2, restore_best_weights=True)\n",
        "\n",
        "history = model.fit(\n",
        "    X_train, y_train,\n",
        "    validation_data=(X_test, y_test),\n",
        "    epochs=10,\n",
        "    batch_size=32,\n",
        "    callbacks=[early_stopping]\n",
        "    )\n",
        "y_pred = model.predict(X_test)\n",
        "y_pred_classes = (y_pred > 0.5).astype(int)\n",
        "\n",
        "print(classification_report(y_test, y_pred_classes))"
      ]
    },
    {
      "cell_type": "code",
      "source": [
        "#plot\n",
        "import matplotlib.pyplot as plt\n",
        "\n",
        "plt.figure(figsize=(4, 4))\n",
        "plt.plot(history.history['loss'], label='Training Loss')\n",
        "plt.plot(history.history['val_loss'], label='Validation Loss')\n",
        "plt.xlabel('Epoch')\n",
        "plt.ylabel('Loss')\n",
        "plt.title('Training and Validation Loss')\n",
        "plt.legend()"
      ],
      "metadata": {
        "colab": {
          "base_uri": "https://localhost:8080/",
          "height": 427
        },
        "id": "vgLPgd_aynVN",
        "outputId": "4d0fa99e-4c39-4963-94e7-c9d785b45bdc"
      },
      "execution_count": 20,
      "outputs": [
        {
          "output_type": "execute_result",
          "data": {
            "text/plain": [
              "<matplotlib.legend.Legend at 0x7f4f2bcf6f90>"
            ]
          },
          "metadata": {},
          "execution_count": 20
        },
        {
          "output_type": "display_data",
          "data": {
            "text/plain": [
              "<Figure size 400x400 with 1 Axes>"
            ],
            "image/png": "[encoded data removed]"
          },
          "metadata": {}
        }
      ]
    },
    {
      "cell_type": "code",
      "source": [
        "import pandas as pd\n",
        "\n",
        "models = {\n",
        "    \"Logistic Regression (TF-IDF)\": LogisticRegression(max_iter=500, n_jobs=-1, random_state=42).fit(X_train_tfidf, y_train),\n",
        "    \"Linear SVM (TF-IDF)\": LinearSVC(random_state=42).fit(X_train_tfidf, y_train)\n",
        "}\n",
        "\n",
        "# Dictionary to store results\n",
        "results = {}\n",
        "\n",
        "def store_results(model_name, y_true, y_pred):\n",
        "    from sklearn.metrics import accuracy_score, precision_score, recall_score, f1_score\n",
        "    results[model_name] = {\n",
        "        \"Accuracy\": accuracy_score(y_true, y_pred),\n",
        "        \"Precision\": precision_score(y_true, y_pred),\n",
        "        \"Recall\": recall_score(y_true, y_pred),\n",
        "        \"F1\": f1_score(y_true, y_pred)\n",
        "    }\n",
        "\n",
        "store_results(\"Logistic Regression (TF-IDF)\", y_test, models[\"Logistic Regression (TF-IDF)\"].predict(X_test_tfidf))\n",
        "store_results(\"Linear SVM (TF-IDF)\", y_test, models[\"Linear SVM (TF-IDF)\"].predict(X_test_tfidf))\n",
        "\n",
        "store_results(\"LSTM\", y_test, y_pred_classes)\n"
      ],
      "metadata": {
        "id": "mx1brTby0tB-"
      },
      "execution_count": 30,
      "outputs": []
    },
    {
      "cell_type": "code",
      "execution_count": 31,
      "metadata": {
        "id": "PVZK2a0FmQDg",
        "colab": {
          "base_uri": "https://localhost:8080/"
        },
        "outputId": "9582da64-1edf-41c1-d478-350eba993aab"
      },
      "outputs": [
        {
          "output_type": "stream",
          "name": "stdout",
          "text": [
            "           Logistic Regression (TF-IDF)  Linear SVM (TF-IDF)      LSTM\n",
            "Accuracy                       0.848238             0.847872  0.848238\n",
            "Precision                      0.848238             0.848278  0.848238\n",
            "Recall                         1.000000             0.999406  1.000000\n",
            "F1                             0.917888             0.917662  0.917888\n"
          ]
        }
      ],
      "source": [
        "results_df = pd.DataFrame(results)\n",
        "print(results_df)"
      ]
    },
    {
      "cell_type": "code",
      "source": [],
      "metadata": {
        "id": "87yWs0-W02Yx"
      },
      "execution_count": null,
      "outputs": []
    }
  ],
  "metadata": {
    "colab": {
      "provenance": [],
      "gpuType": "T4"
    },
    "kernelspec": {
      "display_name": "Python 3",
      "name": "python3"
    },
    "language_info": {
      "name": "python"
    },
    "accelerator": "GPU"
  },
  "nbformat": 4,
  "nbformat_minor": 0
}